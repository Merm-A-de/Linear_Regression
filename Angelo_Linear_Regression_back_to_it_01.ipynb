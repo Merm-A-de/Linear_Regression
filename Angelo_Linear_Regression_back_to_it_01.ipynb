{
  "nbformat": 4,
  "nbformat_minor": 0,
  "metadata": {
    "colab": {
      "provenance": [],
      "authorship_tag": "ABX9TyP9jmkeJAmP7OSdaDcUWC14",
      "include_colab_link": true
    },
    "kernelspec": {
      "name": "python3",
      "display_name": "Python 3"
    },
    "language_info": {
      "name": "python"
    }
  },
  "cells": [
    {
      "cell_type": "markdown",
      "metadata": {
        "id": "view-in-github",
        "colab_type": "text"
      },
      "source": [
        "<a href=\"https://colab.research.google.com/github/Merm-A-de/Linear_Regression/blob/main/Angelo_Linear_Regression_back_to_it_01.ipynb\" target=\"_parent\"><img src=\"https://colab.research.google.com/assets/colab-badge.svg\" alt=\"Open In Colab\"/></a>"
      ]
    },
    {
      "cell_type": "code",
      "execution_count": 10,
      "metadata": {
        "id": "KUThAOtW_QzY"
      },
      "outputs": [],
      "source": [
        "import pandas as pd\n",
        "import matplotlib.pyplot as plt\n",
        "import numpy as np\n",
        "import statsmodels.api as sm\n",
        "\n"
      ]
    },
    {
      "cell_type": "code",
      "source": [
        "biology_test = np.array([[70.44, 1.78, 1], [50.64, 4.44, 1], [84.56, 0.48, 1], [80.48, 6.53, 0], [43.5, 0.55, 0], [55.3, 10.33, 1], [70.79, 10.55, 0], [84.52, 3.72, 1], [66.27, 11.19, 0], [69.89, 0.89, 1], [94.96, 10.62, 1], [76.13, 4.77, 0], [32.48, 4.11, 1], [84.94, 1.01, 1], [77.94, 1.34, 1], [63.29, 3.8, 0], [41.1, 9.35, 0], [63.9, 7.91, 1], [90.42, 9.57, 0], [79.67, 1.46, 0], [60.47, 7.41, 1], [55.93, 9.76, 1], [45.49, 11.01, 1], [41.39, 9.48, 1], [38.7, 2.86, 1], [85.49, 6.54, 0], [75.31, 10.12, 1], [51.32, 2.32, 0], [51.78, 9.73, 0], [52.35, 5.99, 1], [95.2, 11.78, 1], [64.46, 9.69, 1], [77.85, 7.4, 1], [42.07, 5.29, 0], [40.64, 0.73, 0], [95.81, 7.84, 0], [53.99, 4.09, 1], [44.7, 2.56, 0], [52.35, 6.02, 1], [68.54, 0.92, 1], [34, 5.17, 0], [37.86, 10.85, 1], [45.15, 7.78, 1], [69.9, 1.25, 1], [32.78, 7.58, 1], [46.05, 11.5, 1], [93.37, 4.64, 0], [94.55, 8.33, 0], [69.19, 0.82, 1], [37.55, 10.22, 0], [35.26, 10.36, 0], [68.55, 11.18, 1], [94.95, 6.67, 0], [57.68, 5.56, 1], [96.91, 3.81, 0], [96.16, 1.24, 0], [54.38, 10.36, 0], [48.03, 1.39, 1], [48.82, 1.76, 1], [76.92, 9.83, 1], [53, 10.19, 0], [42.77, 2.5, 0], [44.19, 6.95, 1], [95.48, 2.65, 1], [94.96, 2.96, 1], [35.55, 6.75, 1], [75.89, 4.98, 0], [73.87, 3.81, 0], [48.62, 1.82, 1], [53.58, 1.32, 0], [50.66, 8.55, 1], [68.1, 3.16, 0], [65.17, 7.51, 1], [57.28, 6.72, 0], [49.09, 4.9, 0], [65.91, 5.82, 1], [50.87, 8.19, 1], [98.4, 11.44, 0], [62.99, 4, 1], [62.71, 6.58, 0], [86.86, 4.7, 0], [98.41, 8.02, 0], [83.48, 2.95, 1], [63.55, 2.58, 0], [43.06, 7.6, 0], [59.71, 10.57, 0], [30.34, 11.67, 0], [65.31, 4.68, 0], [69.61, 4.59, 1], [34.17, 5.25, 1], [46.74, 3.06, 0], [44.67, 3.71, 1], [40.86, 11.88, 1], [82.64, 11.44, 1], [86.25, 1.01, 1], [90.72, 5.24, 1], [84.77, 3.37, 0], [72.38, 2.71, 0], [93.66, 1.97, 0], [30.74, 2.43, 0], [38.07, 3.78, 1], [95.34, 1.38, 0], [59.68, 4.39, 1], [61.59, 3.14, 1], [96.33, 3.44, 0], [96.4, 10.91, 0], [91.53, 6.07, 1], [35.89, 7.05, 1], [69.67, 2.57, 0], [32.03, 4.35, 0], [64.15, 7.75, 0], [75.47, 1.72, 0], [99.21, 2.67, 0], [64.83, 5.27, 0], [70.34, 3.83, 0], [81.58, 10.57, 0], [89.45, 2.14, 0], [31.29, 3.97, 1], [49.11, 8.06, 0], [86.52, 2.29, 1], [94.9, 8.07, 0], [87.12, 10.16, 1], [69.44, 10.07, 0], [74.5, 10.27, 1], [45.22, 1.85, 1], [35.16, 6.22, 1], [58, 5.63, 1], [44.72, 5.03, 0], [37.36, 10.98, 0], [58.91, 3.5, 0], [42.8, 10.16, 1], [65.01, 6.12, 0], [57.82, 5.64, 1], [71.13, 2.84, 0], [50.44, 8.72, 0], [91.29, 10.3, 0], [47.99, 1.85, 1], [86.24, 0.25, 0], [68.66, 5.91, 0], [36.35, 2.81, 0], [53.79, 9.78, 0], [51.03, 8.13, 1], [84.05, 5.36, 1], [32, 9.39, 0], [92.01, 1.31, 1], [50.88, 7.77, 0], [46.96, 11.05, 0], [43.65, 3.73, 0], [37.53, 7.87, 1], [70.56, 4.91, 0], [71.75, 6.48, 1], [45.52, 10.82, 1], [68.55, 4.58, 1], [43.38, 0.09, 1], [39.8, 4.02, 0], [46.12, 11.16, 0], [99.53, 5.49, 0], [91.41, 0.39, 1], [43.52, 4.86, 0], [61.9, 3.38, 0], [60.85, 8.61, 1], [50.1, 3.15, 0], [69.98, 3.32, 0], [39.93, 5.21, 1], [83.93, 7.28, 0], [54.62, 3.54, 0], [74.98, 2.08, 1], [41.43, 6.18, 0], [53.48, 0.14, 0], [55.54, 1.36, 1], [89.61, 4.6, 0], [93.92, 0.53, 0], [34.95, 5.14, 1], [97.99, 11.48, 1], [69.53, 2.52, 0], [68.22, 4.76, 0], [41.14, 10.95, 1], [72.69, 2.27, 1], [86.71, 1.8, 0], [57, 10.1, 1], [31.81, 8.11, 0], [55.98, 5.4, 0], [36.56, 5.07, 0], [87.65, 8.8, 0], [67.85, 2.62, 1], [49.68, 5.62, 1], [50.42, 3.99, 0], [76.6, 6.02, 0], [50.37, 2.93, 1], [68.9, 7.18, 1], [77.27, 5.04, 0], [34.34, 10.45, 0], [33.6, 10.84, 0], [82.32, 4.1, 1], [67.15, 10.77, 0], [97.95, 11.89, 0], [76.8, 6.27, 0], [74.42, 6.43, 0], [93.24, 9.57, 0], [38.42, 4.18, 0], [41.22, 8.57, 1], [42.92, 7.46, 1], [56.29, 3.42, 0], [34.66, 9.54, 1], [70.25, 1.81, 1], [38.28, 2.8, 0], [58.67, 2.74, 0], [45.93, 11.21, 0], [74.28, 7.14, 0], [85.93, 3.11, 1], [48.79, 3.61, 1], [34.65, 7.52, 1], [44.45, 0.09, 0], [33.42, 1.2, 1], [39.27, 4.02, 0], [95.3, 8.71, 0], [64.81, 10.85, 0], [57.88, 2.81, 0], [94.65, 11.18, 0], [45.18, 8.14, 0], [37.95, 5.69, 1], [34.93, 9.2, 1], [41.1, 0.59, 0], [72.71, 2.32, 0], [62.99, 10.35, 0], [96.02, 5.04, 0], [63.14, 2.85, 1], [36.29, 1.43, 1], [44.18, 10.64, 0], [98.67, 1.7, 0], [40.19, 9.23, 1], [67.48, 9.37, 0], [49.57, 0.87, 1], [93.82, 10.49, 1], [31.79, 2.5, 0], [87.51, 0.54, 0], [81.08, 0.81, 0], [33.65, 11.85, 0], [86.16, 8.64, 0], [44.69, 6.16, 1], [55.8, 7.73, 1], [43.8, 5.01, 1], [39.31, 7.71, 0], [61.03, 7.26, 0], [81.33, 7.57, 0], [59.05, 11.05, 1], [59.24, 11.17, 1], [33.97, 11.25, 0], [65.56, 4.85, 0], [35.04, 4.51, 1], [32.59, 8.54, 1], [50.66, 3.83, 0], [73.31, 8.55, 0], [78.24, 6.61, 0], [76.05, 6.09, 0], [37.33, 1.34, 0], [58.31, 2.23, 0], [63.82, 0.09, 0], [86.23, 4.34, 1], [58.24, 0.03, 0], [48.75, 2.02, 0], [69.95, 5.61, 0], [36.45, 6.98, 0], [48.45, 9.45, 1], [72.61, 0.58, 0], [75.37, 3.9, 1], [57.61, 3.09, 0], [56.91, 1.44, 0], [69.66, 9.35, 1], [81.18, 10.18, 0], [92.53, 5.51, 1], [62.07, 8.69, 1], [74.75, 0.76, 0], [43.18, 9.18, 0], [40.64, 8.09, 1], [32.21, 9.76, 0], [71.15, 11.76, 0], [93.49, 10.46, 0], [55.41, 8.91, 1], [57.22, 10.23, 0], [33.05, 7.46, 1], [87.34, 8.17, 1], [65.67, 0.4, 1], [64.25, 10.75, 0], [31.39, 1.51, 1], [77.69, 2.88, 0], [58.58, 6.91, 0], [59.23, 6.67, 1], [55.63, 10.89, 0], [65.27, 10.55, 0], [35.63, 8.08, 1], [98.43, 6.57, 1], [69.29, 1.2, 1], [84.44, 0.1, 1], [70.79, 10.5, 0], [89.52, 6.55, 0], [97.69, 5.23, 1], [38.39, 8.83, 0], [40.88, 6.45, 0], [69.86, 5.76, 1], [35.81, 5.31, 0], [60.33, 7.59, 1], [40.44, 6.29, 0], [88.14, 3.57, 0], [61.62, 10.16, 0], [62.82, 5.03, 0], [52.17, 7.19, 1], [57.97, 4.26, 0], [87.68, 5.33, 1], [82.89, 6.67, 1], [93.48, 0.45, 0], [59.22, 2.32, 0], [35.31, 3.09, 1], [80.22, 9.53, 0], [85.76, 9.48, 1], [83.45, 3.39, 0], [62.03, 2.69, 1], [68, 7.27, 0], [42.56, 7.58, 0], [79.63, 5.45, 0], [60.09, 4.91, 1], [70.68, 10.28, 0], [30.21, 11.35, 0], [66.49, 1.61, 0], [69, 7.54, 0], [64.1, 5.25, 0], [31.82, 11.76, 0], [91.07, 6.23, 1], [37.65, 9.3, 0], [96.7, 5.53, 1], [70.15, 2.03, 1], [87.35, 7.89, 0], [63.82, 11.86, 1], [74.62, 8.18, 0], [95.24, 2.48, 1], [58.5, 6.03, 1], [97.49, 11.52, 0], [88.94, 4.72, 0], [55.5, 2.24, 0], [48.34, 11.32, 1], [64.6, 3.75, 0], [58.62, 5.1, 1], [78.82, 4.43, 1], [92.67, 8.11, 0], [33.02, 9.69, 1], [39.21, 1.45, 1], [58.88, 11.91, 0], [95.21, 1.72, 1], [96.47, 11.85, 1], [82.36, 9.92, 1], [57.69, 1.09, 1], [39.56, 3.31, 0], [46.73, 11.8, 1], [57.21, 9.69, 1], [71.7, 0.41, 1], [56.69, 8.28, 1], [94.3, 7.35, 0], [95.68, 8.17, 1], [42.01, 6.44, 1], [34.81, 9.3, 0], [34.4, 6.43, 0], [37.36, 11.42, 0], [70.51, 0.82, 1], [33.43, 9.23, 1], [98.01, 4.97, 1], [58.45, 11.55, 0], [92.34, 9.89, 0], [37.19, 10.12, 0], [40.48, 3.58, 1], [79.94, 1.87, 1], [58.26, 8.83, 1], [57.27, 10.37, 1], [45.1, 11.15, 0], [33.86, 3.42, 0], [41.75, 6.39, 1], [38.99, 0.69, 1], [52.17, 7.07, 0], [63.46, 9.57, 1], [57.58, 1.89, 0], [38.16, 5.32, 1], [54.36, 7.19, 1], [74.63, 3.98, 1], [64.21, 5.75, 1], [31.21, 3.44, 1], [98.02, 0.83, 1], [66.29, 10.82, 1], [48.15, 1.33, 0], [52.51, 5.22, 0], [61.02, 9.96, 1], [85.45, 5.83, 1], [40.3, 6.47, 0], [36.11, 5.85, 0], [49.22, 9.84, 0], [61.64, 4.89, 0], [42.93, 0.14, 0], [99.99, 10.27, 1], [59.46, 0.26, 1], [80.1, 10.64, 1], [58.59, 1.4, 0], [79.63, 10.15, 0], [85.58, 9.51, 0], [63.23, 6.45, 1], [75.53, 6.52, 1], [50.17, 0.57, 0], [56.88, 2.22, 1], [48.42, 11.38, 0], [86.14, 6.26, 1], [88.37, 10.69, 1], [64.27, 6.16, 0], [62.41, 8.99, 0], [65.73, 8.14, 0], [60.36, 1.1, 0], [30.91, 10.24, 1], [51.91, 0.44, 1], [64.28, 6.83, 1], [43.82, 5.08, 0], [90.76, 2.36, 0], [91.26, 10.86, 1], [54.06, 4.94, 1], [91.74, 7.25, 1], [47.73, 6.24, 1], [71.34, 1.06, 1], [57.08, 1.79, 1], [73.61, 4.86, 0], [78.35, 7.57, 1], [61.24, 0.49, 1], [64.52, 5.23, 0], [77.44, 8.27, 1], [88.45, 3.01, 1], [33.1, 3.63, 0], [99.37, 2.89, 0], [56.84, 11.59, 0], [64.6, 1.6, 1], [65.06, 7.03, 0], [89.61, 11.71, 1], [39.52, 5.6, 1], [80.75, 10.71, 0], [69.34, 4.57, 0], [81.86, 9.83, 1], [31.73, 1.4, 1], [79.43, 4.76, 1], [71.4, 8.05, 0], [86.01, 6.74, 1], [65.67, 10.48, 1], [74.84, 6.75, 0], [38.93, 9.97, 0], [67.75, 7.3, 0], [43.33, 3.13, 0], [87.05, 8.07, 0], [65.02, 4.76, 0], [96.3, 1.81, 0], [99.28, 3.06, 1], [40.43, 10.34, 0], [77.97, 6.67, 0], [64.24, 0.69, 1], [66.94, 1.65, 1], [77.97, 0.79, 1], [35.11, 11.83, 1], [82.42, 10.02, 1], [32.97, 11.12, 1], [80.81, 3.6, 0], [76.8, 6.99, 0], [70.36, 11.38, 1], [88.73, 6.41, 0], [82.66, 10.66, 1], [41.43, 4.13, 0], [52.68, 10.39, 1], [92.07, 3.4, 1], [44.82, 11.48, 0], [34.6, 9.89, 1], [36, 8.68, 0], [97.1, 11.82, 0], [94.46, 11.84, 1], [53.82, 3.5, 0], [70.46, 11.84, 0], [91.56, 11.75, 0], [98.29, 3.14, 1], [96.21, 1.38, 0], [65.29, 4.18, 1], [56.44, 0.68, 1], [69.41, 7.65, 0], [58.05, 8.16, 0], [73.95, 2.61, 0], [54.72, 9.07, 1], [46.9, 1.98, 0], [74.12, 9.9, 1], [52.73, 11.07, 0], [54.66, 8.15, 0], [98.34, 4.27, 1], [43.92, 0.25, 1], [54.06, 2.8, 0], [39.35, 10.14, 0], [79.11, 3.54, 0], [78.79, 7.34, 1], [96.43, 1.29, 0], [93.01, 3.51, 0], [60.11, 2.68, 0], [51.07, 5.35, 1], [60.69, 5.53, 0], [66.87, 7.04, 1], [62.92, 10.84, 0], [59.14, 8.48, 1], [93.8, 4.74, 0], [95.78, 10.06, 1], [85.95, 2.7, 1], [74.17, 3.28, 0], [81.01, 3.98, 0], [52.17, 0.29, 1], [86.13, 5.28, 1], [72.21, 0.98, 0], [34.15, 1.71, 0], [80.98, 0.71, 1], [39.13, 1.93, 0], [54.48, 2.52, 0], [39.36, 1.18, 1], [48.57, 9.06, 1], [88.82, 7.17, 0], [72.75, 9.21, 1], [76.81, 5.61, 0], [74.32, 1.44, 1], [63.81, 11.28, 1], [79.48, 11.64, 0], [95.64, 11.59, 1], [92.83, 9, 1], [66.02, 0.46, 1], [73.93, 6.74, 1], [62.68, 11.19, 1], [52.64, 6.34, 1], [73.37, 11.32, 0], [98.85, 10.55, 0], [33.3, 10.3, 0], [85.74, 9.07, 0], [99.19, 1.59, 1], [65.02, 2.16, 0], [95.46, 11.6, 1], [75.3, 10.79, 0], [90.41, 3.05, 0], [92.1, 4.42, 1], [44.41, 11.53, 1], [98.24, 8.04, 1], [43.91, 10.71, 1], [74.12, 1.82, 1], [62.5, 4.79, 1], [44.73, 3.74, 0], [33.4, 0.23, 1], [94.07, 5.55, 0], [87.7, 8.98, 0], [89.96, 10.82, 1], [48.04, 3.28, 0], [95.17, 4.66, 1], [42.71, 5.4, 0], [59.7, 5.61, 1], [42.27, 6.48, 0], [92.68, 4.37, 1], [69.58, 5.36, 0], [38.19, 9.33, 0], [94.75, 0.08, 1], [87.57, 9.2, 0], [89.09, 4.17, 0], [50.01, 9.98, 0], [72.8, 3.38, 0], [90.61, 6.55, 0], [61.12, 10.16, 1], [46.16, 10.64, 0], [91.33, 3.84, 0], [44.19, 6.01, 1], [96.16, 9.34, 1], [59.39, 7.76, 1], [52.17, 4.67, 0], [56.75, 10.3, 0], [43.76, 6.84, 1], [38.2, 5.96, 0], [83.38, 1.47, 1], [85.96, 3.96, 1], [95.05, 0.6, 0], [70.8, 2.73, 1], [54.28, 11.23, 1], [44.8, 4.54, 1], [54.42, 4.72, 0], [73.81, 5.85, 1], [72.3, 9.95, 1], [92.19, 3.46, 1], [48.06, 8.43, 0], [31.08, 5.95, 0], [76.05, 10.55, 1], [46.11, 6.78, 0], [75.04, 7.97, 1], [32.09, 11.4, 1], [65.4, 8.51, 1], [76.79, 10.77, 0], [80.86, 10.54, 1], [30.44, 5.45, 0], [82.61, 2.65, 1], [59.54, 11.86, 1], [70.13, 11.1, 1], [67.61, 6.28, 0], [58.6, 2.01, 1], [53.66, 10.64, 0], [41.63, 11.39, 1], [98.45, 8.43, 0], [81.65, 6.44, 1], [82.31, 11.25, 1], [40.2, 0.6, 0], [32.94, 11.8, 0], [37.92, 2.62, 0], [33.95, 10.23, 0], [98.29, 4.82, 1], [80.75, 2.84, 1], [51.75, 9.35, 1], [81.01, 6.99, 1], [78.94, 8.13, 1], [79.76, 7.92, 0], [91.34, 10.27, 1], [75.57, 1.38, 0], [86.63, 8.79, 1], [67.52, 5.43, 0], [60.82, 1.12, 1], [97.89, 5, 0], [71.78, 1.27, 1], [77.57, 7, 1], [37.45, 3.86, 0], [58.5, 6.2, 0], [56.15, 11.54, 0], [81.5, 11.2, 0], [69.88, 11.22, 1], [48.8, 8.18, 1], [42.94, 4.33, 1], [79.43, 6.54, 0], [56.92, 8.18, 1], [34.62, 8.58, 0], [78.28, 1.53, 0], [81.86, 3.04, 0], [49.32, 2.49, 0], [59.22, 8.9, 1], [65.51, 9.77, 0], [68.36, 7.49, 0], [96.42, 5.39, 0], [47.67, 11.34, 1], [97.3, 0.53, 0], [59.67, 5.12, 0], [94.48, 1.92, 0], [30.29, 1.15, 1], [67.24, 6.9, 0], [62.53, 4.64, 1], [85.66, 2.55, 1], [77.71, 11.06, 0], [31.96, 1.01, 1], [54.09, 8.74, 1], [64.21, 8.23, 1], [35.9, 9.56, 0], [50.7, 3.19, 1], [86.62, 2.88, 0], [70.65, 10.35, 1], [98.06, 11.12, 1], [35.89, 5.96, 0], [94.31, 7.22, 1], [75.18, 10.1, 1], [53.54, 5.84, 0], [43.64, 4.8, 1], [45.65, 7.57, 1], [44.2, 9.55, 1], [62.76, 8.53, 0], [67.17, 0.72, 0], [37.92, 7.9, 1], [42.93, 0.64, 1], [47.93, 8.34, 0], [84.64, 2.42, 0], [76.62, 1.47, 0], [91.91, 1.93, 0], [38.2, 10.98, 0], [79.21, 5.02, 0], [41.93, 1.09, 0], [58.42, 8.96, 0], [79.93, 1.19, 0], [88.73, 5.05, 1], [41.36, 3.47, 0], [65.24, 3.66, 1], [44.36, 6.56, 1], [99.66, 0.09, 1], [53.16, 10.67, 1], [95.06, 8.67, 1], [90.77, 3.28, 1], [49.29, 2.09, 1], [81.45, 10.82, 0], [30.96, 3.05, 0], [69.6, 10.66, 0], [63.44, 11.19, 1], [30.78, 6.6, 1], [59.98, 9.41, 1], [36.47, 11.14, 0], [87.84, 11.4, 1], [43.45, 10.26, 0], [56.41, 0.27, 1], [30.25, 2.52, 1], [30.25, 0.69, 0], [30.69, 1.06, 0], [64.04, 4.37, 0], [49.78, 0.31, 0], [88.73, 9.72, 1], [98.77, 5.49, 0], [81.78, 4.3, 0], [55.62, 0.72, 1], [96.99, 2.08, 1], [41.29, 10.48, 0], [81.6, 7.82, 0], [92.34, 11.69, 0], [89.44, 7.84, 0], [76.86, 7.47, 1], [98.58, 11.62, 1], [71.51, 7.56, 1], [97.91, 3.39, 0], [86.44, 6.94, 0], [54.18, 8.69, 0], [76.96, 4.89, 0], [63.72, 7.58, 1], [59.64, 5.73, 0], [40.12, 11.11, 0], [98.88, 8.63, 1], [94.62, 9.03, 0], [98.58, 9.61, 0], [78.45, 6.47, 1], [50.13, 3.41, 0], [96.97, 5.02, 1], [55.12, 9.66, 0], [85.06, 6.48, 0], [87.17, 9.41, 0], [99.49, 0.69, 0], [30.15, 10.97, 1], [92.56, 9.11, 1], [32.44, 4.66, 1], [57.52, 5, 1], [85.93, 8.1, 1], [64.95, 1.39, 1], [96.23, 4.56, 0], [85.53, 4.94, 1], [59.76, 11.39, 0], [42.93, 1.97, 0], [52.91, 6.08, 0], [32.98, 10.57, 1], [38.08, 6.02, 1], [74.09, 2.6, 1], [55.96, 5.43, 1], [58.89, 11.57, 0], [33.41, 4.51, 0], [39.14, 1.31, 0], [75.97, 10.68, 1], [64.94, 2.47, 0], [86.42, 1.76, 1], [87.5, 9.84, 0], [60.59, 4.44, 0], [59.72, 9.74, 0], [36.01, 3.32, 1], [67.31, 1.13, 0], [37.31, 2.62, 0], [47.26, 3, 1], [59.46, 3.61, 1], [65.82, 7.97, 1], [61.09, 1.73, 1], [69.64, 0.75, 1], [94.44, 5.7, 1], [90.48, 9.2, 0], [92.89, 5.72, 1], [93.71, 1.01, 1], [40.49, 9.85, 1], [30.81, 5.41, 0], [50.62, 9.39, 1], [51.85, 3.32, 0], [47.77, 5.98, 0], [72.55, 8.79, 0], [38.67, 4.84, 1], [66.52, 2.98, 0], [50.04, 4.71, 1], [48.99, 4.89, 0], [95.43, 5.15, 0], [90.88, 4.78, 0], [65.68, 5.36, 1], [77.81, 6.73, 1], [86.07, 3.28, 0], [70.67, 6.83, 0], [73.37, 11.01, 0], [36.98, 5.37, 0], [42.58, 11.73, 0], [96.98, 4.01, 1], [32.05, 8.05, 1], [64.61, 9.35, 0], [39.82, 7.19, 0], [42.36, 7.02, 1], [87.75, 5.52, 0], [95.06, 4.93, 1], [77.42, 4.16, 1], [87.11, 3.68, 0], [56.15, 0.74, 1], [96.35, 2.98, 1], [65.03, 9.04, 1], [96.65, 5.07, 1], [70.43, 11.61, 1], [71.24, 8.7, 1], [70.43, 10.25, 1], [97.25, 5.04, 0], [56.5, 11.72, 1], [62.21, 9.93, 0], [43.8, 6.16, 0], [84.5, 1.66, 1], [53.99, 0.39, 1], [69.5, 2.92, 1], [89.85, 1.27, 1], [31.94, 9.89, 0], [62.21, 6.7, 0], [66.18, 7.38, 1], [87.32, 3.49, 0], [57.25, 7.77, 0], [69.27, 9.93, 1], [39.03, 11.27, 0], [94.71, 2.71, 0], [85.21, 4.99, 1], [40.02, 6.67, 0], [34.96, 0.23, 1], [91.5, 8.37, 1], [90.21, 7.04, 0], [34.46, 2.48, 0], [34.14, 0.98, 1], [78.63, 7.73, 1], [49.41, 11.74, 1], [43.72, 6.19, 1], [64.34, 3.59, 1], [52.96, 11.81, 1], [55.81, 1.64, 1], [80.73, 8.71, 0], [85.23, 7.97, 0], [52.79, 5.71, 1], [37.82, 3.54, 0], [61.57, 3.63, 1], [41.07, 2.48, 0], [35.2, 11.79, 1], [96.89, 8.26, 1], [54.95, 10.94, 1], [92.99, 11.81, 1], [79.54, 2.79, 0], [64.47, 10.45, 1], [64.38, 3.16, 1], [91.42, 11.84, 1], [45.92, 8.05, 1], [32.96, 4.11, 1], [46.62, 8.1, 1], [96.54, 8.9, 0], [43.26, 4.62, 1], [71.13, 6.36, 1], [91.99, 6.06, 0], [38.52, 0.85, 0], [32.79, 2.94, 0], [35.24, 9.71, 1], [47.14, 4.9, 0], [86.15, 8.96, 1], [76.06, 8.33, 0], [75.12, 11.94, 1], [37.58, 3.1, 0], [51.87, 3.68, 0], [38.72, 2.4, 0], [70.49, 0.37, 1], [69.29, 10.93, 0], [54.27, 5.01, 1], [73.79, 9.64, 1], [66.17, 10.64, 1], [87.68, 10.76, 0], [58.32, 6.55, 1], [83.1, 6.83, 0], [75.6, 1.72, 1], [86.43, 5.56, 0], [34.17, 5.14, 0], [43.9, 7.59, 1], [68.01, 2.81, 1], [45.92, 6.95, 0], [84.81, 11.74, 0], [39.11, 5.91, 1], [69.93, 3.1, 0], [45.64, 6.48, 1], [54.18, 9.5, 1], [43.03, 8.77, 1], [94.46, 6.62, 0], [74, 10.64, 1], [56.21, 2.53, 1], [76.23, 8.19, 1], [33.46, 11.76, 0], [99.62, 8.45, 0], [39.78, 7.6, 1], [54.51, 4.99, 1], [64.37, 9.51, 0], [40.17, 4.36, 1], [83.15, 5.46, 0], [79.1, 9.03, 0], [69.67, 10.46, 1], [70.54, 4.48, 0], [78.18, 4.91, 0], [88.1, 2.69, 0], [30.98, 11.19, 0], [82.48, 7.95, 1], [32.57, 10.66, 0], [40, 10.35, 1], [93.08, 7.29, 0], [79.19, 0.43, 1], [79.74, 7.69, 1], [64.68, 11.67, 0], [75.92, 6.17, 1], [54.66, 12, 1], [94.12, 2.85, 0], [89.49, 10.81, 0], [32.41, 2.5, 0], [43.85, 6.23, 1], [83.6, 7.22, 0], [39.04, 1.78, 1], [86.27, 11.69, 1], [84.94, 4.44, 1], [39.47, 9.63, 1], [71.73, 0.33, 1], [41.52, 5.79, 1], [96.06, 2.93, 0], [38.69, 10.44, 1], [89.31, 5.57, 0], [37.08, 6.21, 0], [57.58, 5.84, 1], [32.23, 6.48, 0], [89.86, 7.53, 1], [38.14, 9.85, 1], [72.66, 1.05, 1], [69.16, 0.26, 1], [65.55, 2.91, 0], [94.09, 4.58, 0], [86.39, 8.36, 1], [96.08, 9.55, 1], [57.81, 4.18, 0], [95.46, 3.84, 0], [54.26, 10.82, 1], [42.36, 4.56, 0], [94.88, 0.53, 1], [86.97, 9.31, 1], [51.78, 10.73, 1], [79.79, 11.83, 1], [32.43, 3.41, 1], [72.11, 4.85, 1], [95.43, 8.96, 0], [85.89, 4.12, 0], [35.49, 2.14, 0], [73.84, 1.77, 1], [60.46, 5.68, 0], [56.85, 3.56, 1], [64.66, 4.17, 0], [66.13, 1.11, 0], [87.07, 2.39, 1], [71.51, 9.01, 0], [36.82, 6.45, 0], [41.02, 4.02, 0], [63.61, 4.65, 1], [66.55, 9.55, 0], [67.41, 7.23, 0], [75.62, 4.59, 0], [51.82, 0.38, 0], [68.22, 0.16, 0], [54.01, 1.7, 1], [50.09, 1.09, 0], [57.64, 9.22, 0], [36.62, 9.57, 1], [77.62, 1.79, 0], [50.31, 7.61, 0], [99.58, 5.77, 1], [68.84, 5.27, 0], [44.69, 6.11, 0], [84.89, 2.41, 1], [52.68, 3.96, 0], [69.5, 11.83, 1], [81.41, 11.71, 0], [91.53, 9.06, 1], [36.82, 6.34, 0], [52.2, 4.11, 0], [71.25, 5.67, 0], [71.13, 3.66, 0], [90.97, 11.95, 1], [98.09, 9.58, 1], [74.99, 9.84, 1], [49.39, 4.2, 1], [70.07, 10.96, 1], [30.34, 3.66, 1], [88.08, 10.02, 1], [58.96, 6.76, 0], [33.84, 1.38, 1], [39.28, 4.23, 0], [64.44, 10.57, 1], [51.93, 8.21, 0], [85.77, 6.56, 1], [37.4, 7.87, 0], [99.97, 8.38, 1], [39.48, 4.97, 1], [93.4, 1.91, 1], [92.29, 2.99, 1], [90.9, 6.9, 0], [80.43, 0.93, 0], [88.8, 10.72, 0], [79.2, 2.63, 1], [47.55, 4.94, 0], [55.09, 6.65, 0], [95.24, 1.34, 1]])\n"
      ],
      "metadata": {
        "id": "q6jzkYDJsmag"
      },
      "execution_count": 11,
      "outputs": []
    },
    {
      "cell_type": "code",
      "source": [
        "bio_test = pd.DataFrame(biology_test, columns = (\"score\", \"hours_studied\", \"breakfast\"))\n",
        "\n",
        "\n",
        "\n",
        "random_15 = bio_test.head(15)\n",
        "\n",
        "\n",
        "random_15"
      ],
      "metadata": {
        "colab": {
          "base_uri": "https://localhost:8080/",
          "height": 520
        },
        "id": "RPWHSsgrsmdK",
        "outputId": "97cc1c3f-b990-4697-a033-dcdb2c392c95"
      },
      "execution_count": 12,
      "outputs": [
        {
          "output_type": "execute_result",
          "data": {
            "text/plain": [
              "    score  hours_studied  breakfast\n",
              "0   70.44           1.78        1.0\n",
              "1   50.64           4.44        1.0\n",
              "2   84.56           0.48        1.0\n",
              "3   80.48           6.53        0.0\n",
              "4   43.50           0.55        0.0\n",
              "5   55.30          10.33        1.0\n",
              "6   70.79          10.55        0.0\n",
              "7   84.52           3.72        1.0\n",
              "8   66.27          11.19        0.0\n",
              "9   69.89           0.89        1.0\n",
              "10  94.96          10.62        1.0\n",
              "11  76.13           4.77        0.0\n",
              "12  32.48           4.11        1.0\n",
              "13  84.94           1.01        1.0\n",
              "14  77.94           1.34        1.0"
            ],
            "text/html": [
              "\n",
              "  <div id=\"df-bd1535ef-5091-46ff-b789-dcb2a8027087\">\n",
              "    <div class=\"colab-df-container\">\n",
              "      <div>\n",
              "<style scoped>\n",
              "    .dataframe tbody tr th:only-of-type {\n",
              "        vertical-align: middle;\n",
              "    }\n",
              "\n",
              "    .dataframe tbody tr th {\n",
              "        vertical-align: top;\n",
              "    }\n",
              "\n",
              "    .dataframe thead th {\n",
              "        text-align: right;\n",
              "    }\n",
              "</style>\n",
              "<table border=\"1\" class=\"dataframe\">\n",
              "  <thead>\n",
              "    <tr style=\"text-align: right;\">\n",
              "      <th></th>\n",
              "      <th>score</th>\n",
              "      <th>hours_studied</th>\n",
              "      <th>breakfast</th>\n",
              "    </tr>\n",
              "  </thead>\n",
              "  <tbody>\n",
              "    <tr>\n",
              "      <th>0</th>\n",
              "      <td>70.44</td>\n",
              "      <td>1.78</td>\n",
              "      <td>1.0</td>\n",
              "    </tr>\n",
              "    <tr>\n",
              "      <th>1</th>\n",
              "      <td>50.64</td>\n",
              "      <td>4.44</td>\n",
              "      <td>1.0</td>\n",
              "    </tr>\n",
              "    <tr>\n",
              "      <th>2</th>\n",
              "      <td>84.56</td>\n",
              "      <td>0.48</td>\n",
              "      <td>1.0</td>\n",
              "    </tr>\n",
              "    <tr>\n",
              "      <th>3</th>\n",
              "      <td>80.48</td>\n",
              "      <td>6.53</td>\n",
              "      <td>0.0</td>\n",
              "    </tr>\n",
              "    <tr>\n",
              "      <th>4</th>\n",
              "      <td>43.50</td>\n",
              "      <td>0.55</td>\n",
              "      <td>0.0</td>\n",
              "    </tr>\n",
              "    <tr>\n",
              "      <th>5</th>\n",
              "      <td>55.30</td>\n",
              "      <td>10.33</td>\n",
              "      <td>1.0</td>\n",
              "    </tr>\n",
              "    <tr>\n",
              "      <th>6</th>\n",
              "      <td>70.79</td>\n",
              "      <td>10.55</td>\n",
              "      <td>0.0</td>\n",
              "    </tr>\n",
              "    <tr>\n",
              "      <th>7</th>\n",
              "      <td>84.52</td>\n",
              "      <td>3.72</td>\n",
              "      <td>1.0</td>\n",
              "    </tr>\n",
              "    <tr>\n",
              "      <th>8</th>\n",
              "      <td>66.27</td>\n",
              "      <td>11.19</td>\n",
              "      <td>0.0</td>\n",
              "    </tr>\n",
              "    <tr>\n",
              "      <th>9</th>\n",
              "      <td>69.89</td>\n",
              "      <td>0.89</td>\n",
              "      <td>1.0</td>\n",
              "    </tr>\n",
              "    <tr>\n",
              "      <th>10</th>\n",
              "      <td>94.96</td>\n",
              "      <td>10.62</td>\n",
              "      <td>1.0</td>\n",
              "    </tr>\n",
              "    <tr>\n",
              "      <th>11</th>\n",
              "      <td>76.13</td>\n",
              "      <td>4.77</td>\n",
              "      <td>0.0</td>\n",
              "    </tr>\n",
              "    <tr>\n",
              "      <th>12</th>\n",
              "      <td>32.48</td>\n",
              "      <td>4.11</td>\n",
              "      <td>1.0</td>\n",
              "    </tr>\n",
              "    <tr>\n",
              "      <th>13</th>\n",
              "      <td>84.94</td>\n",
              "      <td>1.01</td>\n",
              "      <td>1.0</td>\n",
              "    </tr>\n",
              "    <tr>\n",
              "      <th>14</th>\n",
              "      <td>77.94</td>\n",
              "      <td>1.34</td>\n",
              "      <td>1.0</td>\n",
              "    </tr>\n",
              "  </tbody>\n",
              "</table>\n",
              "</div>\n",
              "      <button class=\"colab-df-convert\" onclick=\"convertToInteractive('df-bd1535ef-5091-46ff-b789-dcb2a8027087')\"\n",
              "              title=\"Convert this dataframe to an interactive table.\"\n",
              "              style=\"display:none;\">\n",
              "        \n",
              "  <svg xmlns=\"http://www.w3.org/2000/svg\" height=\"24px\"viewBox=\"0 0 24 24\"\n",
              "       width=\"24px\">\n",
              "    <path d=\"M0 0h24v24H0V0z\" fill=\"none\"/>\n",
              "    <path d=\"M18.56 5.44l.94 2.06.94-2.06 2.06-.94-2.06-.94-.94-2.06-.94 2.06-2.06.94zm-11 1L8.5 8.5l.94-2.06 2.06-.94-2.06-.94L8.5 2.5l-.94 2.06-2.06.94zm10 10l.94 2.06.94-2.06 2.06-.94-2.06-.94-.94-2.06-.94 2.06-2.06.94z\"/><path d=\"M17.41 7.96l-1.37-1.37c-.4-.4-.92-.59-1.43-.59-.52 0-1.04.2-1.43.59L10.3 9.45l-7.72 7.72c-.78.78-.78 2.05 0 2.83L4 21.41c.39.39.9.59 1.41.59.51 0 1.02-.2 1.41-.59l7.78-7.78 2.81-2.81c.8-.78.8-2.07 0-2.86zM5.41 20L4 18.59l7.72-7.72 1.47 1.35L5.41 20z\"/>\n",
              "  </svg>\n",
              "      </button>\n",
              "      \n",
              "  <style>\n",
              "    .colab-df-container {\n",
              "      display:flex;\n",
              "      flex-wrap:wrap;\n",
              "      gap: 12px;\n",
              "    }\n",
              "\n",
              "    .colab-df-convert {\n",
              "      background-color: #E8F0FE;\n",
              "      border: none;\n",
              "      border-radius: 50%;\n",
              "      cursor: pointer;\n",
              "      display: none;\n",
              "      fill: #1967D2;\n",
              "      height: 32px;\n",
              "      padding: 0 0 0 0;\n",
              "      width: 32px;\n",
              "    }\n",
              "\n",
              "    .colab-df-convert:hover {\n",
              "      background-color: #E2EBFA;\n",
              "      box-shadow: 0px 1px 2px rgba(60, 64, 67, 0.3), 0px 1px 3px 1px rgba(60, 64, 67, 0.15);\n",
              "      fill: #174EA6;\n",
              "    }\n",
              "\n",
              "    [theme=dark] .colab-df-convert {\n",
              "      background-color: #3B4455;\n",
              "      fill: #D2E3FC;\n",
              "    }\n",
              "\n",
              "    [theme=dark] .colab-df-convert:hover {\n",
              "      background-color: #434B5C;\n",
              "      box-shadow: 0px 1px 3px 1px rgba(0, 0, 0, 0.15);\n",
              "      filter: drop-shadow(0px 1px 2px rgba(0, 0, 0, 0.3));\n",
              "      fill: #FFFFFF;\n",
              "    }\n",
              "  </style>\n",
              "\n",
              "      <script>\n",
              "        const buttonEl =\n",
              "          document.querySelector('#df-bd1535ef-5091-46ff-b789-dcb2a8027087 button.colab-df-convert');\n",
              "        buttonEl.style.display =\n",
              "          google.colab.kernel.accessAllowed ? 'block' : 'none';\n",
              "\n",
              "        async function convertToInteractive(key) {\n",
              "          const element = document.querySelector('#df-bd1535ef-5091-46ff-b789-dcb2a8027087');\n",
              "          const dataTable =\n",
              "            await google.colab.kernel.invokeFunction('convertToInteractive',\n",
              "                                                     [key], {});\n",
              "          if (!dataTable) return;\n",
              "\n",
              "          const docLinkHtml = 'Like what you see? Visit the ' +\n",
              "            '<a target=\"_blank\" href=https://colab.research.google.com/notebooks/data_table.ipynb>data table notebook</a>'\n",
              "            + ' to learn more about interactive tables.';\n",
              "          element.innerHTML = '';\n",
              "          dataTable['output_type'] = 'display_data';\n",
              "          await google.colab.output.renderOutput(dataTable, element);\n",
              "          const docLink = document.createElement('div');\n",
              "          docLink.innerHTML = docLinkHtml;\n",
              "          element.appendChild(docLink);\n",
              "        }\n",
              "      </script>\n",
              "    </div>\n",
              "  </div>\n",
              "  "
            ]
          },
          "metadata": {},
          "execution_count": 12
        }
      ]
    },
    {
      "cell_type": "code",
      "source": [
        "plt.scatter(random_15.hours_studied, random_15.score)\n",
        "plt.ylabel(\"Score\")\n",
        "plt.xlabel(\"Hours Studied\")\n",
        "\n",
        "y = 10 * random_15.hours_studied +30\n",
        "\n",
        "plt.plot(random_15.score, y)"
      ],
      "metadata": {
        "colab": {
          "base_uri": "https://localhost:8080/",
          "height": 297
        },
        "id": "zCvMzrk7t24M",
        "outputId": "ecd243f9-7826-446e-a782-7dd6b67effed"
      },
      "execution_count": 14,
      "outputs": [
        {
          "output_type": "execute_result",
          "data": {
            "text/plain": [
              "[<matplotlib.lines.Line2D at 0x7f5a53669c40>]"
            ]
          },
          "metadata": {},
          "execution_count": 14
        },
        {
          "output_type": "display_data",
          "data": {
            "text/plain": [
              "<Figure size 432x288 with 1 Axes>"
            ],
            "image/png": "[encoded data removed]"
          },
          "metadata": {
            "needs_background": "light"
          }
        }
      ]
    },
    {
      "cell_type": "code",
      "source": [
        "model = sm.OLS.from_formula('score ~ hours_studied', data = random_15)\n",
        "\n",
        "\n",
        "results = model.fit()\n",
        "\n",
        "\n",
        "print(results.params)"
      ],
      "metadata": {
        "colab": {
          "base_uri": "https://localhost:8080/"
        },
        "id": "3MIDaz_mvI3Q",
        "outputId": "c07d93fb-7324-40d7-9f99-4fc2ede3aae6"
      },
      "execution_count": 15,
      "outputs": [
        {
          "output_type": "stream",
          "name": "stdout",
          "text": [
            "Intercept        68.588387\n",
            "hours_studied     0.193807\n",
            "dtype: float64\n"
          ]
        }
      ]
    },
    {
      "cell_type": "code",
      "source": [
        "elle = (10 * random_15.hours_studied + 15)\n",
        "nn = np.linspace(-5,5,100)\n",
        "\n",
        "plt.plot(nn, elle)"
      ],
      "metadata": {
        "colab": {
          "base_uri": "https://localhost:8080/",
          "height": 605
        },
        "id": "hSWJRw3bz16y",
        "outputId": "98fc5098-6a77-4c87-b975-fed9f071bd6c"
      },
      "execution_count": 16,
      "outputs": [
        {
          "output_type": "error",
          "ename": "ValueError",
          "evalue": "ignored",
          "traceback": [
            "\u001b[0;31m---------------------------------------------------------------------------\u001b[0m",
            "\u001b[0;31mValueError\u001b[0m                                Traceback (most recent call last)",
            "\u001b[0;32m<ipython-input-16-b7ef9a41da8a>\u001b[0m in \u001b[0;36m<module>\u001b[0;34m\u001b[0m\n\u001b[1;32m      2\u001b[0m \u001b[0mnn\u001b[0m \u001b[0;34m=\u001b[0m \u001b[0mnp\u001b[0m\u001b[0;34m.\u001b[0m\u001b[0mlinspace\u001b[0m\u001b[0;34m(\u001b[0m\u001b[0;34m-\u001b[0m\u001b[0;36m5\u001b[0m\u001b[0;34m,\u001b[0m\u001b[0;36m5\u001b[0m\u001b[0;34m,\u001b[0m\u001b[0;36m100\u001b[0m\u001b[0;34m)\u001b[0m\u001b[0;34m\u001b[0m\u001b[0;34m\u001b[0m\u001b[0m\n\u001b[1;32m      3\u001b[0m \u001b[0;34m\u001b[0m\u001b[0m\n\u001b[0;32m----> 4\u001b[0;31m \u001b[0mplt\u001b[0m\u001b[0;34m.\u001b[0m\u001b[0mplot\u001b[0m\u001b[0;34m(\u001b[0m\u001b[0mnn\u001b[0m\u001b[0;34m,\u001b[0m \u001b[0melle\u001b[0m\u001b[0;34m)\u001b[0m\u001b[0;34m\u001b[0m\u001b[0;34m\u001b[0m\u001b[0m\n\u001b[0m",
            "\u001b[0;32m/usr/local/lib/python3.8/dist-packages/matplotlib/pyplot.py\u001b[0m in \u001b[0;36mplot\u001b[0;34m(scalex, scaley, data, *args, **kwargs)\u001b[0m\n\u001b[1;32m   2759\u001b[0m \u001b[0;34m@\u001b[0m\u001b[0mdocstring\u001b[0m\u001b[0;34m.\u001b[0m\u001b[0mcopy\u001b[0m\u001b[0;34m(\u001b[0m\u001b[0mAxes\u001b[0m\u001b[0;34m.\u001b[0m\u001b[0mplot\u001b[0m\u001b[0;34m)\u001b[0m\u001b[0;34m\u001b[0m\u001b[0;34m\u001b[0m\u001b[0m\n\u001b[1;32m   2760\u001b[0m \u001b[0;32mdef\u001b[0m \u001b[0mplot\u001b[0m\u001b[0;34m(\u001b[0m\u001b[0;34m*\u001b[0m\u001b[0margs\u001b[0m\u001b[0;34m,\u001b[0m \u001b[0mscalex\u001b[0m\u001b[0;34m=\u001b[0m\u001b[0;32mTrue\u001b[0m\u001b[0;34m,\u001b[0m \u001b[0mscaley\u001b[0m\u001b[0;34m=\u001b[0m\u001b[0;32mTrue\u001b[0m\u001b[0;34m,\u001b[0m \u001b[0mdata\u001b[0m\u001b[0;34m=\u001b[0m\u001b[0;32mNone\u001b[0m\u001b[0;34m,\u001b[0m \u001b[0;34m**\u001b[0m\u001b[0mkwargs\u001b[0m\u001b[0;34m)\u001b[0m\u001b[0;34m:\u001b[0m\u001b[0;34m\u001b[0m\u001b[0;34m\u001b[0m\u001b[0m\n\u001b[0;32m-> 2761\u001b[0;31m     return gca().plot(\n\u001b[0m\u001b[1;32m   2762\u001b[0m         *args, scalex=scalex, scaley=scaley, **({\"data\": data} if data\n\u001b[1;32m   2763\u001b[0m         is not None else {}), **kwargs)\n",
            "\u001b[0;32m/usr/local/lib/python3.8/dist-packages/matplotlib/axes/_axes.py\u001b[0m in \u001b[0;36mplot\u001b[0;34m(self, scalex, scaley, data, *args, **kwargs)\u001b[0m\n\u001b[1;32m   1645\u001b[0m         \"\"\"\n\u001b[1;32m   1646\u001b[0m         \u001b[0mkwargs\u001b[0m \u001b[0;34m=\u001b[0m \u001b[0mcbook\u001b[0m\u001b[0;34m.\u001b[0m\u001b[0mnormalize_kwargs\u001b[0m\u001b[0;34m(\u001b[0m\u001b[0mkwargs\u001b[0m\u001b[0;34m,\u001b[0m \u001b[0mmlines\u001b[0m\u001b[0;34m.\u001b[0m\u001b[0mLine2D\u001b[0m\u001b[0;34m)\u001b[0m\u001b[0;34m\u001b[0m\u001b[0;34m\u001b[0m\u001b[0m\n\u001b[0;32m-> 1647\u001b[0;31m         \u001b[0mlines\u001b[0m \u001b[0;34m=\u001b[0m \u001b[0;34m[\u001b[0m\u001b[0;34m*\u001b[0m\u001b[0mself\u001b[0m\u001b[0;34m.\u001b[0m\u001b[0m_get_lines\u001b[0m\u001b[0;34m(\u001b[0m\u001b[0;34m*\u001b[0m\u001b[0margs\u001b[0m\u001b[0;34m,\u001b[0m \u001b[0mdata\u001b[0m\u001b[0;34m=\u001b[0m\u001b[0mdata\u001b[0m\u001b[0;34m,\u001b[0m \u001b[0;34m**\u001b[0m\u001b[0mkwargs\u001b[0m\u001b[0;34m)\u001b[0m\u001b[0;34m]\u001b[0m\u001b[0;34m\u001b[0m\u001b[0;34m\u001b[0m\u001b[0m\n\u001b[0m\u001b[1;32m   1648\u001b[0m         \u001b[0;32mfor\u001b[0m \u001b[0mline\u001b[0m \u001b[0;32min\u001b[0m \u001b[0mlines\u001b[0m\u001b[0;34m:\u001b[0m\u001b[0;34m\u001b[0m\u001b[0;34m\u001b[0m\u001b[0m\n\u001b[1;32m   1649\u001b[0m             \u001b[0mself\u001b[0m\u001b[0;34m.\u001b[0m\u001b[0madd_line\u001b[0m\u001b[0;34m(\u001b[0m\u001b[0mline\u001b[0m\u001b[0;34m)\u001b[0m\u001b[0;34m\u001b[0m\u001b[0;34m\u001b[0m\u001b[0m\n",
            "\u001b[0;32m/usr/local/lib/python3.8/dist-packages/matplotlib/axes/_base.py\u001b[0m in \u001b[0;36m__call__\u001b[0;34m(self, *args, **kwargs)\u001b[0m\n\u001b[1;32m    214\u001b[0m                 \u001b[0mthis\u001b[0m \u001b[0;34m+=\u001b[0m \u001b[0margs\u001b[0m\u001b[0;34m[\u001b[0m\u001b[0;36m0\u001b[0m\u001b[0;34m]\u001b[0m\u001b[0;34m,\u001b[0m\u001b[0;34m\u001b[0m\u001b[0;34m\u001b[0m\u001b[0m\n\u001b[1;32m    215\u001b[0m                 \u001b[0margs\u001b[0m \u001b[0;34m=\u001b[0m \u001b[0margs\u001b[0m\u001b[0;34m[\u001b[0m\u001b[0;36m1\u001b[0m\u001b[0;34m:\u001b[0m\u001b[0;34m]\u001b[0m\u001b[0;34m\u001b[0m\u001b[0;34m\u001b[0m\u001b[0m\n\u001b[0;32m--> 216\u001b[0;31m             \u001b[0;32myield\u001b[0m \u001b[0;32mfrom\u001b[0m \u001b[0mself\u001b[0m\u001b[0;34m.\u001b[0m\u001b[0m_plot_args\u001b[0m\u001b[0;34m(\u001b[0m\u001b[0mthis\u001b[0m\u001b[0;34m,\u001b[0m \u001b[0mkwargs\u001b[0m\u001b[0;34m)\u001b[0m\u001b[0;34m\u001b[0m\u001b[0;34m\u001b[0m\u001b[0m\n\u001b[0m\u001b[1;32m    217\u001b[0m \u001b[0;34m\u001b[0m\u001b[0m\n\u001b[1;32m    218\u001b[0m     \u001b[0;32mdef\u001b[0m \u001b[0mget_next_color\u001b[0m\u001b[0;34m(\u001b[0m\u001b[0mself\u001b[0m\u001b[0;34m)\u001b[0m\u001b[0;34m:\u001b[0m\u001b[0;34m\u001b[0m\u001b[0;34m\u001b[0m\u001b[0m\n",
            "\u001b[0;32m/usr/local/lib/python3.8/dist-packages/matplotlib/axes/_base.py\u001b[0m in \u001b[0;36m_plot_args\u001b[0;34m(self, tup, kwargs)\u001b[0m\n\u001b[1;32m    340\u001b[0m \u001b[0;34m\u001b[0m\u001b[0m\n\u001b[1;32m    341\u001b[0m         \u001b[0;32mif\u001b[0m \u001b[0mx\u001b[0m\u001b[0;34m.\u001b[0m\u001b[0mshape\u001b[0m\u001b[0;34m[\u001b[0m\u001b[0;36m0\u001b[0m\u001b[0;34m]\u001b[0m \u001b[0;34m!=\u001b[0m \u001b[0my\u001b[0m\u001b[0;34m.\u001b[0m\u001b[0mshape\u001b[0m\u001b[0;34m[\u001b[0m\u001b[0;36m0\u001b[0m\u001b[0;34m]\u001b[0m\u001b[0;34m:\u001b[0m\u001b[0;34m\u001b[0m\u001b[0;34m\u001b[0m\u001b[0m\n\u001b[0;32m--> 342\u001b[0;31m             raise ValueError(f\"x and y must have same first dimension, but \"\n\u001b[0m\u001b[1;32m    343\u001b[0m                              f\"have shapes {x.shape} and {y.shape}\")\n\u001b[1;32m    344\u001b[0m         \u001b[0;32mif\u001b[0m \u001b[0mx\u001b[0m\u001b[0;34m.\u001b[0m\u001b[0mndim\u001b[0m \u001b[0;34m>\u001b[0m \u001b[0;36m2\u001b[0m \u001b[0;32mor\u001b[0m \u001b[0my\u001b[0m\u001b[0;34m.\u001b[0m\u001b[0mndim\u001b[0m \u001b[0;34m>\u001b[0m \u001b[0;36m2\u001b[0m\u001b[0;34m:\u001b[0m\u001b[0;34m\u001b[0m\u001b[0;34m\u001b[0m\u001b[0m\n",
            "\u001b[0;31mValueError\u001b[0m: x and y must have same first dimension, but have shapes (100,) and (15,)"
          ]
        },
        {
          "output_type": "display_data",
          "data": {
            "text/plain": [
              "<Figure size 432x288 with 1 Axes>"
            ],
            "image/png": "[encoded data removed]"
          },
          "metadata": {
            "needs_background": "light"
          }
        }
      ]
    },
    {
      "cell_type": "code",
      "source": [],
      "metadata": {
        "id": "agYYTupDHAar"
      },
      "execution_count": null,
      "outputs": []
    },
    {
      "cell_type": "code",
      "source": [
        "out = plt.scatter(random_15.hours_studied, random_15.score)"
      ],
      "metadata": {
        "colab": {
          "base_uri": "https://localhost:8080/",
          "height": 265
        },
        "id": "eTTxMiKwHAc6",
        "outputId": "4ed48d4e-ef3a-469a-f18b-0802d0446293"
      },
      "execution_count": 30,
      "outputs": [
        {
          "output_type": "display_data",
          "data": {
            "text/plain": [
              "<Figure size 432x288 with 1 Axes>"
            ],
            "image/png": "[encoded data removed]"
          },
          "metadata": {
            "needs_background": "light"
          }
        }
      ]
    },
    {
      "cell_type": "code",
      "source": [
        "plt.scatter(random_15.breakfast, random_15.score)"
      ],
      "metadata": {
        "colab": {
          "base_uri": "https://localhost:8080/",
          "height": 283
        },
        "id": "z3YFopbQHkkb",
        "outputId": "069b20a8-c913-45c8-cc5f-c741fbf6d81f"
      },
      "execution_count": 22,
      "outputs": [
        {
          "output_type": "execute_result",
          "data": {
            "text/plain": [
              "<matplotlib.collections.PathCollection at 0x7f5a520453d0>"
            ]
          },
          "metadata": {},
          "execution_count": 22
        },
        {
          "output_type": "display_data",
          "data": {
            "text/plain": [
              "<Figure size 432x288 with 1 Axes>"
            ],
            "image/png": "[encoded data removed]"
          },
          "metadata": {
            "needs_background": "light"
          }
        }
      ]
    },
    {
      "cell_type": "code",
      "source": [
        "#print(results.params)\n",
        "\n",
        "pred_1hr = results.params[1] * 1 + results.params[0]\n",
        "\n",
        "\n",
        "print(pred_1hr)\n"
      ],
      "metadata": {
        "colab": {
          "base_uri": "https://localhost:8080/"
        },
        "id": "LVifw1hjOBpE",
        "outputId": "a6a54e3f-ead9-4c03-c910-2140bc641e4d"
      },
      "execution_count": 29,
      "outputs": [
        {
          "output_type": "stream",
          "name": "stdout",
          "text": [
            "68.78219414387257\n"
          ]
        }
      ]
    },
    {
      "cell_type": "code",
      "source": [
        "plt.subplot(out,pred_1hr)"
      ],
      "metadata": {
        "colab": {
          "base_uri": "https://localhost:8080/",
          "height": 336
        },
        "id": "Rr94YFhIOg10",
        "outputId": "02223fb1-ae9f-4418-c9bd-55ec2aa19017"
      },
      "execution_count": 32,
      "outputs": [
        {
          "output_type": "error",
          "ename": "ValueError",
          "evalue": "ignored",
          "traceback": [
            "\u001b[0;31m---------------------------------------------------------------------------\u001b[0m",
            "\u001b[0;31mValueError\u001b[0m                                Traceback (most recent call last)",
            "\u001b[0;32m<ipython-input-32-df65197b067f>\u001b[0m in \u001b[0;36m<module>\u001b[0;34m\u001b[0m\n\u001b[0;32m----> 1\u001b[0;31m \u001b[0mplt\u001b[0m\u001b[0;34m.\u001b[0m\u001b[0msubplot\u001b[0m\u001b[0;34m(\u001b[0m\u001b[0mout\u001b[0m\u001b[0;34m,\u001b[0m\u001b[0mpred_1hr\u001b[0m\u001b[0;34m)\u001b[0m\u001b[0;34m\u001b[0m\u001b[0;34m\u001b[0m\u001b[0m\n\u001b[0m",
            "\u001b[0;32m/usr/local/lib/python3.8/dist-packages/matplotlib/pyplot.py\u001b[0m in \u001b[0;36msubplot\u001b[0;34m(*args, **kwargs)\u001b[0m\n\u001b[1;32m   1028\u001b[0m \u001b[0;34m\u001b[0m\u001b[0m\n\u001b[1;32m   1029\u001b[0m     \u001b[0mfig\u001b[0m \u001b[0;34m=\u001b[0m \u001b[0mgcf\u001b[0m\u001b[0;34m(\u001b[0m\u001b[0;34m)\u001b[0m\u001b[0;34m\u001b[0m\u001b[0;34m\u001b[0m\u001b[0m\n\u001b[0;32m-> 1030\u001b[0;31m     \u001b[0ma\u001b[0m \u001b[0;34m=\u001b[0m \u001b[0mfig\u001b[0m\u001b[0;34m.\u001b[0m\u001b[0madd_subplot\u001b[0m\u001b[0;34m(\u001b[0m\u001b[0;34m*\u001b[0m\u001b[0margs\u001b[0m\u001b[0;34m,\u001b[0m \u001b[0;34m**\u001b[0m\u001b[0mkwargs\u001b[0m\u001b[0;34m)\u001b[0m\u001b[0;34m\u001b[0m\u001b[0;34m\u001b[0m\u001b[0m\n\u001b[0m\u001b[1;32m   1031\u001b[0m     \u001b[0mbbox\u001b[0m \u001b[0;34m=\u001b[0m \u001b[0ma\u001b[0m\u001b[0;34m.\u001b[0m\u001b[0mbbox\u001b[0m\u001b[0;34m\u001b[0m\u001b[0;34m\u001b[0m\u001b[0m\n\u001b[1;32m   1032\u001b[0m     \u001b[0mbyebye\u001b[0m \u001b[0;34m=\u001b[0m \u001b[0;34m[\u001b[0m\u001b[0;34m]\u001b[0m\u001b[0;34m\u001b[0m\u001b[0;34m\u001b[0m\u001b[0m\n",
            "\u001b[0;32m/usr/local/lib/python3.8/dist-packages/matplotlib/figure.py\u001b[0m in \u001b[0;36madd_subplot\u001b[0;34m(self, *args, **kwargs)\u001b[0m\n\u001b[1;32m   1417\u001b[0m                     \u001b[0mself\u001b[0m\u001b[0;34m.\u001b[0m\u001b[0m_axstack\u001b[0m\u001b[0;34m.\u001b[0m\u001b[0mremove\u001b[0m\u001b[0;34m(\u001b[0m\u001b[0max\u001b[0m\u001b[0;34m)\u001b[0m\u001b[0;34m\u001b[0m\u001b[0;34m\u001b[0m\u001b[0m\n\u001b[1;32m   1418\u001b[0m \u001b[0;34m\u001b[0m\u001b[0m\n\u001b[0;32m-> 1419\u001b[0;31m             \u001b[0ma\u001b[0m \u001b[0;34m=\u001b[0m \u001b[0msubplot_class_factory\u001b[0m\u001b[0;34m(\u001b[0m\u001b[0mprojection_class\u001b[0m\u001b[0;34m)\u001b[0m\u001b[0;34m(\u001b[0m\u001b[0mself\u001b[0m\u001b[0;34m,\u001b[0m \u001b[0;34m*\u001b[0m\u001b[0margs\u001b[0m\u001b[0;34m,\u001b[0m \u001b[0;34m**\u001b[0m\u001b[0mkwargs\u001b[0m\u001b[0;34m)\u001b[0m\u001b[0;34m\u001b[0m\u001b[0;34m\u001b[0m\u001b[0m\n\u001b[0m\u001b[1;32m   1420\u001b[0m \u001b[0;34m\u001b[0m\u001b[0m\n\u001b[1;32m   1421\u001b[0m         \u001b[0;32mreturn\u001b[0m \u001b[0mself\u001b[0m\u001b[0;34m.\u001b[0m\u001b[0m_add_axes_internal\u001b[0m\u001b[0;34m(\u001b[0m\u001b[0mkey\u001b[0m\u001b[0;34m,\u001b[0m \u001b[0ma\u001b[0m\u001b[0;34m)\u001b[0m\u001b[0;34m\u001b[0m\u001b[0;34m\u001b[0m\u001b[0m\n",
            "\u001b[0;32m/usr/local/lib/python3.8/dist-packages/matplotlib/axes/_subplots.py\u001b[0m in \u001b[0;36m__init__\u001b[0;34m(self, fig, *args, **kwargs)\u001b[0m\n\u001b[1;32m     69\u001b[0m                 \u001b[0;31m# num - 1 for converting from MATLAB to python indexing\u001b[0m\u001b[0;34m\u001b[0m\u001b[0;34m\u001b[0m\u001b[0;34m\u001b[0m\u001b[0m\n\u001b[1;32m     70\u001b[0m         \u001b[0;32melse\u001b[0m\u001b[0;34m:\u001b[0m\u001b[0;34m\u001b[0m\u001b[0;34m\u001b[0m\u001b[0m\n\u001b[0;32m---> 71\u001b[0;31m             \u001b[0;32mraise\u001b[0m \u001b[0mValueError\u001b[0m\u001b[0;34m(\u001b[0m\u001b[0;34mf'Illegal argument(s) to subplot: {args}'\u001b[0m\u001b[0;34m)\u001b[0m\u001b[0;34m\u001b[0m\u001b[0;34m\u001b[0m\u001b[0m\n\u001b[0m\u001b[1;32m     72\u001b[0m \u001b[0;34m\u001b[0m\u001b[0m\n\u001b[1;32m     73\u001b[0m         \u001b[0mself\u001b[0m\u001b[0;34m.\u001b[0m\u001b[0mupdate_params\u001b[0m\u001b[0;34m(\u001b[0m\u001b[0;34m)\u001b[0m\u001b[0;34m\u001b[0m\u001b[0;34m\u001b[0m\u001b[0m\n",
            "\u001b[0;31mValueError\u001b[0m: Illegal argument(s) to subplot: (<matplotlib.collections.PathCollection object at 0x7f5a5211daf0>, 68.78219414387257)"
          ]
        },
        {
          "output_type": "display_data",
          "data": {
            "text/plain": [
              "<Figure size 432x288 with 0 Axes>"
            ]
          },
          "metadata": {}
        }
      ]
    }
  ]
}